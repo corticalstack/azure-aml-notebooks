{
  "cells": [
    {
      "cell_type": "markdown",
      "source": [
        "### Connect to the AML workspace"
      ],
      "metadata": {
        "nteract": {
          "transient": {
            "deleting": false
          }
        }
      }
    },
    {
      "cell_type": "code",
      "source": [
        "import azureml.core\r\n",
        "from azureml.core import Workspace\r\n",
        "\r\n",
        "# Load the workspace from the saved config file\r\n",
        "ws = Workspace.from_config()\r\n",
        "print('Ready to use Azure ML {} to work with {}'.format(azureml.core.VERSION, ws.name))"
      ],
      "outputs": [
        {
          "output_type": "stream",
          "name": "stdout",
          "text": "Ready to use Azure ML 1.47.0 to work with mlw-test\n"
        }
      ],
      "execution_count": 5,
      "metadata": {
        "jupyter": {
          "source_hidden": false,
          "outputs_hidden": false
        },
        "nteract": {
          "transient": {
            "deleting": false
          }
        },
        "gather": {
          "logged": 1675160003906
        }
      }
    },
    {
      "cell_type": "markdown",
      "source": [
        "### Get the default datastore"
      ],
      "metadata": {
        "nteract": {
          "transient": {
            "deleting": false
          }
        }
      }
    },
    {
      "cell_type": "code",
      "source": [
        "default_ds = ws.get_default_datastore()"
      ],
      "outputs": [],
      "execution_count": 6,
      "metadata": {
        "jupyter": {
          "source_hidden": false,
          "outputs_hidden": false
        },
        "nteract": {
          "transient": {
            "deleting": false
          }
        },
        "gather": {
          "logged": 1675160006902
        }
      }
    },
    {
      "cell_type": "markdown",
      "source": [
        "### Create a dataset from the diabetes data uploaded to the default datastore "
      ],
      "metadata": {
        "nteract": {
          "transient": {
            "deleting": false
          }
        }
      }
    },
    {
      "cell_type": "code",
      "source": [
        "from azureml.core import Dataset\r\n",
        "\r\n",
        "# Create a tabular dataset from the path on the datastore (this may take a short while)\r\n",
        "tab_data_set = Dataset.Tabular.from_delimited_files(path=(default_ds, 'data-diabetes/*.csv'))\r\n",
        "\r\n",
        "# Display the first 20 rows as a Pandas dataframe\r\n",
        "tab_data_set.take(20).to_pandas_dataframe()"
      ],
      "outputs": [
        {
          "output_type": "execute_result",
          "execution_count": 7,
          "data": {
            "text/plain": "    PatientID  Pregnancies  PlasmaGlucose  DiastolicBloodPressure  \\\n0     1354778            0            171                      80   \n1     1147438            8             92                      93   \n2     1640031            7            115                      47   \n3     1883350            9            103                      78   \n4     1424119            1             85                      59   \n5     1619297            0             82                      92   \n6     1660149            0            133                      47   \n7     1458769            0             67                      87   \n8     1201647            8             80                      95   \n9     1403912            1             72                      31   \n10    1943830            1             88                      86   \n11    1824483            3             94                      96   \n12    1848869            5            114                     101   \n13    1669231            7            110                      82   \n14    1683688            0            148                      58   \n15    1738587            3            109                      77   \n16    1884264            3            106                      64   \n17    1485251            1            156                      53   \n18    1536832            8            117                      39   \n19    1438701            3            102                     100   \n\n    TricepsThickness  SerumInsulin        BMI  DiabetesPedigree  Age  Diabetic  \n0                 34            23  43.509726          1.213191   21         0  \n1                 47            36  21.240576          0.158365   23         0  \n2                 52            35  41.511523          0.079019   23         0  \n3                 25           304  29.582192          1.282870   43         1  \n4                 27            35  42.604536          0.549542   22         0  \n5                  9           253  19.724160          0.103424   26         0  \n6                 19           227  21.941357          0.174160   21         0  \n7                 43            36  18.277723          0.236165   26         0  \n8                 33            24  26.624929          0.443947   53         1  \n9                 40            42  36.889576          0.103944   26         0  \n10                11            58  43.225041          0.230285   22         0  \n11                31            36  21.294479          0.259020   23         0  \n12                43            70  36.495320          0.079190   38         1  \n13                16            44  36.089293          0.281276   25         0  \n14                11           179  39.192076          0.160829   45         0  \n15                46            61  19.847312          0.204345   21         1  \n16                25            51  29.044573          0.589188   42         1  \n17                15           226  29.786192          0.203824   41         1  \n18                32           164  21.230996          0.089363   25         0  \n19                25           289  42.185720          0.175593   43         1  ",
            "text/html": "<div>\n<style scoped>\n    .dataframe tbody tr th:only-of-type {\n        vertical-align: middle;\n    }\n\n    .dataframe tbody tr th {\n        vertical-align: top;\n    }\n\n    .dataframe thead th {\n        text-align: right;\n    }\n</style>\n<table border=\"1\" class=\"dataframe\">\n  <thead>\n    <tr style=\"text-align: right;\">\n      <th></th>\n      <th>PatientID</th>\n      <th>Pregnancies</th>\n      <th>PlasmaGlucose</th>\n      <th>DiastolicBloodPressure</th>\n      <th>TricepsThickness</th>\n      <th>SerumInsulin</th>\n      <th>BMI</th>\n      <th>DiabetesPedigree</th>\n      <th>Age</th>\n      <th>Diabetic</th>\n    </tr>\n  </thead>\n  <tbody>\n    <tr>\n      <th>0</th>\n      <td>1354778</td>\n      <td>0</td>\n      <td>171</td>\n      <td>80</td>\n      <td>34</td>\n      <td>23</td>\n      <td>43.509726</td>\n      <td>1.213191</td>\n      <td>21</td>\n      <td>0</td>\n    </tr>\n    <tr>\n      <th>1</th>\n      <td>1147438</td>\n      <td>8</td>\n      <td>92</td>\n      <td>93</td>\n      <td>47</td>\n      <td>36</td>\n      <td>21.240576</td>\n      <td>0.158365</td>\n      <td>23</td>\n      <td>0</td>\n    </tr>\n    <tr>\n      <th>2</th>\n      <td>1640031</td>\n      <td>7</td>\n      <td>115</td>\n      <td>47</td>\n      <td>52</td>\n      <td>35</td>\n      <td>41.511523</td>\n      <td>0.079019</td>\n      <td>23</td>\n      <td>0</td>\n    </tr>\n    <tr>\n      <th>3</th>\n      <td>1883350</td>\n      <td>9</td>\n      <td>103</td>\n      <td>78</td>\n      <td>25</td>\n      <td>304</td>\n      <td>29.582192</td>\n      <td>1.282870</td>\n      <td>43</td>\n      <td>1</td>\n    </tr>\n    <tr>\n      <th>4</th>\n      <td>1424119</td>\n      <td>1</td>\n      <td>85</td>\n      <td>59</td>\n      <td>27</td>\n      <td>35</td>\n      <td>42.604536</td>\n      <td>0.549542</td>\n      <td>22</td>\n      <td>0</td>\n    </tr>\n    <tr>\n      <th>5</th>\n      <td>1619297</td>\n      <td>0</td>\n      <td>82</td>\n      <td>92</td>\n      <td>9</td>\n      <td>253</td>\n      <td>19.724160</td>\n      <td>0.103424</td>\n      <td>26</td>\n      <td>0</td>\n    </tr>\n    <tr>\n      <th>6</th>\n      <td>1660149</td>\n      <td>0</td>\n      <td>133</td>\n      <td>47</td>\n      <td>19</td>\n      <td>227</td>\n      <td>21.941357</td>\n      <td>0.174160</td>\n      <td>21</td>\n      <td>0</td>\n    </tr>\n    <tr>\n      <th>7</th>\n      <td>1458769</td>\n      <td>0</td>\n      <td>67</td>\n      <td>87</td>\n      <td>43</td>\n      <td>36</td>\n      <td>18.277723</td>\n      <td>0.236165</td>\n      <td>26</td>\n      <td>0</td>\n    </tr>\n    <tr>\n      <th>8</th>\n      <td>1201647</td>\n      <td>8</td>\n      <td>80</td>\n      <td>95</td>\n      <td>33</td>\n      <td>24</td>\n      <td>26.624929</td>\n      <td>0.443947</td>\n      <td>53</td>\n      <td>1</td>\n    </tr>\n    <tr>\n      <th>9</th>\n      <td>1403912</td>\n      <td>1</td>\n      <td>72</td>\n      <td>31</td>\n      <td>40</td>\n      <td>42</td>\n      <td>36.889576</td>\n      <td>0.103944</td>\n      <td>26</td>\n      <td>0</td>\n    </tr>\n    <tr>\n      <th>10</th>\n      <td>1943830</td>\n      <td>1</td>\n      <td>88</td>\n      <td>86</td>\n      <td>11</td>\n      <td>58</td>\n      <td>43.225041</td>\n      <td>0.230285</td>\n      <td>22</td>\n      <td>0</td>\n    </tr>\n    <tr>\n      <th>11</th>\n      <td>1824483</td>\n      <td>3</td>\n      <td>94</td>\n      <td>96</td>\n      <td>31</td>\n      <td>36</td>\n      <td>21.294479</td>\n      <td>0.259020</td>\n      <td>23</td>\n      <td>0</td>\n    </tr>\n    <tr>\n      <th>12</th>\n      <td>1848869</td>\n      <td>5</td>\n      <td>114</td>\n      <td>101</td>\n      <td>43</td>\n      <td>70</td>\n      <td>36.495320</td>\n      <td>0.079190</td>\n      <td>38</td>\n      <td>1</td>\n    </tr>\n    <tr>\n      <th>13</th>\n      <td>1669231</td>\n      <td>7</td>\n      <td>110</td>\n      <td>82</td>\n      <td>16</td>\n      <td>44</td>\n      <td>36.089293</td>\n      <td>0.281276</td>\n      <td>25</td>\n      <td>0</td>\n    </tr>\n    <tr>\n      <th>14</th>\n      <td>1683688</td>\n      <td>0</td>\n      <td>148</td>\n      <td>58</td>\n      <td>11</td>\n      <td>179</td>\n      <td>39.192076</td>\n      <td>0.160829</td>\n      <td>45</td>\n      <td>0</td>\n    </tr>\n    <tr>\n      <th>15</th>\n      <td>1738587</td>\n      <td>3</td>\n      <td>109</td>\n      <td>77</td>\n      <td>46</td>\n      <td>61</td>\n      <td>19.847312</td>\n      <td>0.204345</td>\n      <td>21</td>\n      <td>1</td>\n    </tr>\n    <tr>\n      <th>16</th>\n      <td>1884264</td>\n      <td>3</td>\n      <td>106</td>\n      <td>64</td>\n      <td>25</td>\n      <td>51</td>\n      <td>29.044573</td>\n      <td>0.589188</td>\n      <td>42</td>\n      <td>1</td>\n    </tr>\n    <tr>\n      <th>17</th>\n      <td>1485251</td>\n      <td>1</td>\n      <td>156</td>\n      <td>53</td>\n      <td>15</td>\n      <td>226</td>\n      <td>29.786192</td>\n      <td>0.203824</td>\n      <td>41</td>\n      <td>1</td>\n    </tr>\n    <tr>\n      <th>18</th>\n      <td>1536832</td>\n      <td>8</td>\n      <td>117</td>\n      <td>39</td>\n      <td>32</td>\n      <td>164</td>\n      <td>21.230996</td>\n      <td>0.089363</td>\n      <td>25</td>\n      <td>0</td>\n    </tr>\n    <tr>\n      <th>19</th>\n      <td>1438701</td>\n      <td>3</td>\n      <td>102</td>\n      <td>100</td>\n      <td>25</td>\n      <td>289</td>\n      <td>42.185720</td>\n      <td>0.175593</td>\n      <td>43</td>\n      <td>1</td>\n    </tr>\n  </tbody>\n</table>\n</div>"
          },
          "metadata": {}
        }
      ],
      "execution_count": 7,
      "metadata": {
        "jupyter": {
          "source_hidden": false,
          "outputs_hidden": false
        },
        "nteract": {
          "transient": {
            "deleting": false
          }
        },
        "gather": {
          "logged": 1675160017977
        }
      }
    },
    {
      "cell_type": "markdown",
      "source": [],
      "metadata": {
        "nteract": {
          "transient": {
            "deleting": false
          }
        }
      }
    },
    {
      "cell_type": "code",
      "source": [
        "# Register the tabular dataset\r\n",
        "try:\r\n",
        "    tab_data_set = tab_data_set.register(workspace=ws, \r\n",
        "                                        name='Diabetes data asset',\r\n",
        "                                        description='Diabetes dataset as a data asset',\r\n",
        "                                        tags = {'format':'CSV'},\r\n",
        "                                        create_new_version=True)\r\n",
        "except Exception as ex:\r\n",
        "    print(ex)"
      ],
      "outputs": [
        {
          "output_type": "stream",
          "name": "stderr",
          "text": "Failed to extract subscription information, Exception=AttributeError; 'Logger' object has no attribute 'activity_info'\nFailed to extract subscription information, Exception=AttributeError; 'Logger' object has no attribute 'activity_info'\n"
        }
      ],
      "execution_count": 8,
      "metadata": {
        "jupyter": {
          "source_hidden": false,
          "outputs_hidden": false
        },
        "nteract": {
          "transient": {
            "deleting": false
          }
        },
        "gather": {
          "logged": 1675160122018
        }
      }
    }
  ],
  "metadata": {
    "kernelspec": {
      "name": "python310-sdkv2",
      "language": "python",
      "display_name": "Python 3.10 - SDK V2"
    },
    "language_info": {
      "name": "python",
      "version": "3.10.6",
      "mimetype": "text/x-python",
      "codemirror_mode": {
        "name": "ipython",
        "version": 3
      },
      "pygments_lexer": "ipython3",
      "nbconvert_exporter": "python",
      "file_extension": ".py"
    },
    "kernel_info": {
      "name": "python310-sdkv2"
    },
    "microsoft": {
      "host": {
        "AzureML": {
          "notebookHasBeenCompleted": true
        }
      }
    },
    "nteract": {
      "version": "nteract-front-end@1.0.0"
    }
  },
  "nbformat": 4,
  "nbformat_minor": 2
}