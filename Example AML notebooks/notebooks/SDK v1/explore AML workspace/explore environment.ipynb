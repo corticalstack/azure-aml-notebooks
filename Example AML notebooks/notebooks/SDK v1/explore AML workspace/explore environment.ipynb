{
  "cells": [
    {
      "cell_type": "markdown",
      "source": [
        "### "
      ],
      "metadata": {
        "nteract": {
          "transient": {
            "deleting": false
          }
        }
      }
    },
    {
      "cell_type": "markdown",
      "source": [
        "### Verify conda is installed, check version number"
      ],
      "metadata": {
        "nteract": {
          "transient": {
            "deleting": false
          }
        }
      }
    },
    {
      "cell_type": "code",
      "source": [
        "!conda info"
      ],
      "outputs": [
        {
          "output_type": "stream",
          "name": "stdout",
          "text": "\r\n     active environment : None\r\n       user config file : /home/azureuser/.condarc\r\n populated config files : \r\n          conda version : 22.9.0\r\n    conda-build version : not installed\r\n         python version : 3.9.12.final.0\r\n       virtual packages : __linux=5.15.0=0\r\n                          __glibc=2.31=0\r\n                          __unix=0=0\r\n                          __archspec=1=x86_64\r\n       base environment : /anaconda  (writable)\r\n      conda av data dir : /anaconda/etc/conda\r\n  conda av metadata url : None\r\n           channel URLs : https://repo.anaconda.com/pkgs/main/linux-64\r\n                          https://repo.anaconda.com/pkgs/main/noarch\r\n                          https://repo.anaconda.com/pkgs/r/linux-64\r\n                          https://repo.anaconda.com/pkgs/r/noarch\r\n          package cache : /anaconda/pkgs\r\n                          /home/azureuser/.conda/pkgs\r\n       envs directories : /anaconda/envs\r\n                          /home/azureuser/.conda/envs\r\n               platform : linux-64\r\n             user-agent : conda/22.9.0 requests/2.28.1 CPython/3.9.12 Linux/5.15.0-1022-azure ubuntu/20.04.5 glibc/2.31\r\n                UID:GID : 1001:1004\r\n             netrc file : None\r\n           offline mode : False\r\n\r\n"
        }
      ],
      "execution_count": 3,
      "metadata": {
        "jupyter": {
          "source_hidden": false,
          "outputs_hidden": false
        },
        "nteract": {
          "transient": {
            "deleting": false
          }
        }
      }
    },
    {
      "cell_type": "markdown",
      "source": [
        "### Get a list of all my environments, active environment is shown with *"
      ],
      "metadata": {
        "nteract": {
          "transient": {
            "deleting": false
          }
        }
      }
    },
    {
      "cell_type": "code",
      "source": [
        "!conda env list"
      ],
      "outputs": [
        {
          "output_type": "stream",
          "name": "stdout",
          "text": "# conda environments:\r\n#\r\nbase                     /anaconda\r\nazureml_py310_sdkv2      /anaconda/envs/azureml_py310_sdkv2\r\nazureml_py38             /anaconda/envs/azureml_py38\r\nazureml_py38_PT_TF       /anaconda/envs/azureml_py38_PT_TF\r\n\r\n"
        }
      ],
      "execution_count": 2,
      "metadata": {
        "jupyter": {
          "source_hidden": false,
          "outputs_hidden": false
        },
        "nteract": {
          "transient": {
            "deleting": false
          }
        }
      }
    },
    {
      "cell_type": "markdown",
      "source": [
        "### List all packages and versions installed in active environment"
      ],
      "metadata": {
        "nteract": {
          "transient": {
            "deleting": false
          }
        }
      }
    },
    {
      "cell_type": "code",
      "source": [
        "!conda list"
      ],
      "outputs": [
        {
          "output_type": "stream",
          "name": "stdout",
          "text": "# packages in environment at /anaconda:\r\n#\r\n# Name                    Version                   Build  Channel\r\n_libgcc_mutex             0.1                        main  \r\n_openmp_mutex             5.1                       1_gnu  \r\napplicationinsights       0.11.10                  pypi_0    pypi\r\nbrotlipy                  0.7.0           py39h27cfd23_1003  \r\nca-certificates           2022.07.19           h06a4308_0    anaconda\r\ncertifi                   2022.6.15        py39h06a4308_0    anaconda\r\ncffi                      1.15.1           py39h74dc2b5_0  \r\ncharset-normalizer        2.0.4              pyhd3eb1b0_0  \r\nconda                     22.9.0           py39h06a4308_0  \r\nconda-package-handling    1.9.0            py39h5eee18b_1  \r\ncryptography              38.0.1           py39h9ce1e76_0  \r\nidna                      3.4              py39h06a4308_0  \r\nld_impl_linux-64          2.38                 h1181459_1  \r\nlibffi                    3.3                  he6710b0_2  \r\nlibgcc-ng                 11.2.0               h1234567_1  \r\nlibgomp                   11.2.0               h1234567_1  \r\nlibstdcxx-ng              11.2.0               h1234567_1  \r\nncurses                   6.3                  h5eee18b_3  \r\nopenssl                   1.1.1q               h7f8727e_0    anaconda\r\npip                       22.1.2           py39h06a4308_0    anaconda\r\npsutil                    5.9.4                    pypi_0    pypi\r\npycosat                   0.6.4            py39h5eee18b_0  \r\npycparser                 2.21               pyhd3eb1b0_0  \r\npyopenssl                 22.0.0             pyhd3eb1b0_0  \r\npysocks                   1.7.1            py39h06a4308_0  \r\npython                    3.9.12               h12debd9_0  \r\nreadline                  8.2                  h5eee18b_0  \r\nrequests                  2.28.1           py39h06a4308_0  \r\nruamel_yaml               0.15.100         py39h27cfd23_0  \r\nsetuptools                65.5.0           py39h06a4308_0  \r\nsqlite                    3.39.3               h5082296_0  \r\ntk                        8.6.12               h1ccaba5_0  \r\ntoolz                     0.12.0           py39h06a4308_0  \r\ntqdm                      4.64.1           py39h06a4308_0  \r\ntzdata                    2022f                h04d1e81_0  \r\nurllib3                   1.26.12          py39h06a4308_0  \r\nwheel                     0.37.1             pyhd3eb1b0_0    anaconda\r\nxz                        5.2.6                h5eee18b_0  \r\nyaml                      0.2.5                h7b6447c_0  \r\nzlib                      1.2.13               h5eee18b_0  \r\n"
        }
      ],
      "execution_count": 1,
      "metadata": {}
    },
    {
      "cell_type": "markdown",
      "source": [
        "### List the history of each change to the current environment"
      ],
      "metadata": {
        "nteract": {
          "transient": {
            "deleting": false
          }
        }
      }
    },
    {
      "cell_type": "code",
      "source": [
        "!conda list --revisions"
      ],
      "outputs": [
        {
          "output_type": "stream",
          "name": "stdout",
          "text": "2022-04-21 09:03:40  (rev 0)\r\n    +_libgcc_mutex-0.1\r\n    +_openmp_mutex-4.5\r\n    +brotlipy-0.7.0\r\n    +ca-certificates-2022.3.29\r\n    +certifi-2021.10.8\r\n    +cffi-1.15.0\r\n    +charset-normalizer-2.0.4\r\n    +colorama-0.4.4\r\n    +conda-4.12.0\r\n    +conda-content-trust-0.1.1\r\n    +conda-package-handling-1.8.1\r\n    +cryptography-36.0.0\r\n    +idna-3.3\r\n    +ld_impl_linux-64-2.35.1\r\n    +libffi-3.3\r\n    +libgcc-ng-9.3.0\r\n    +libgomp-9.3.0\r\n    +libstdcxx-ng-9.3.0\r\n    +ncurses-6.3\r\n    +openssl-1.1.1n\r\n    +pip-21.2.4\r\n    +pycosat-0.6.3\r\n    +pycparser-2.21\r\n    +pyopenssl-22.0.0\r\n    +pysocks-1.7.1\r\n    +python-3.9.12\r\n    +readline-8.1.2\r\n    +requests-2.27.1\r\n    +ruamel_yaml-0.15.100\r\n    +setuptools-61.2.0\r\n    +six-1.16.0\r\n    +sqlite-3.38.2\r\n    +tk-8.6.11\r\n    +tqdm-4.63.0\r\n    +tzdata-2022a\r\n    +urllib3-1.26.8\r\n    +wheel-0.37.1\r\n    +xz-5.2.5\r\n    +yaml-0.2.5\r\n    +zlib-1.2.12\r\n\r\n2022-11-11 03:42:46  (rev 1)\r\n     _libgcc_mutex  {0.1 -> 0.1 (defaults/linux-64)}\r\n     _openmp_mutex  {4.5 -> 5.1 (defaults/linux-64)}\r\n     brotlipy  {0.7.0 -> 0.7.0 (defaults/linux-64)}\r\n     ca-certificates  {2022.3.29 -> 2022.10.11 (defaults/linux-64)}\r\n     certifi  {2021.10.8 -> 2022.9.24 (defaults/linux-64)}\r\n     cffi  {1.15.0 -> 1.15.1 (defaults/linux-64)}\r\n     charset-normalizer  {2.0.4 -> 2.0.4 (defaults/noarch)}\r\n     conda  {4.12.0 -> 22.9.0 (defaults/linux-64)}\r\n     conda-package-handling  {1.8.1 -> 1.9.0 (defaults/linux-64)}\r\n     cryptography  {36.0.0 -> 38.0.1 (defaults/linux-64)}\r\n     idna  {3.3 -> 3.4 (defaults/linux-64)}\r\n     ld_impl_linux-64  {2.35.1 -> 2.38 (defaults/linux-64)}\r\n     libffi  {3.3 -> 3.3 (defaults/linux-64)}\r\n     libgcc-ng  {9.3.0 -> 11.2.0 (defaults/linux-64)}\r\n     libgomp  {9.3.0 -> 11.2.0 (defaults/linux-64)}\r\n     libstdcxx-ng  {9.3.0 -> 11.2.0 (defaults/linux-64)}\r\n     ncurses  {6.3 -> 6.3 (defaults/linux-64)}\r\n     openssl  {1.1.1n -> 1.1.1s (defaults/linux-64)}\r\n     pycosat  {0.6.3 -> 0.6.4 (defaults/linux-64)}\r\n     pycparser  {2.21 -> 2.21 (defaults/noarch)}\r\n     pyopenssl  {22.0.0 -> 22.0.0 (defaults/noarch)}\r\n     pysocks  {1.7.1 -> 1.7.1 (defaults/linux-64)}\r\n     python  {3.9.12 -> 3.9.12 (defaults/linux-64)}\r\n     readline  {8.1.2 -> 8.2 (defaults/linux-64)}\r\n     requests  {2.27.1 -> 2.28.1 (defaults/linux-64)}\r\n     ruamel_yaml  {0.15.100 -> 0.15.100 (defaults/linux-64)}\r\n     setuptools  {61.2.0 -> 65.5.0 (defaults/linux-64)}\r\n     sqlite  {3.38.2 -> 3.39.3 (defaults/linux-64)}\r\n     tk  {8.6.11 -> 8.6.12 (defaults/linux-64)}\r\n     tqdm  {4.63.0 -> 4.64.1 (defaults/linux-64)}\r\n     tzdata  {2022a -> 2022f (defaults/noarch)}\r\n     urllib3  {1.26.8 -> 1.26.12 (defaults/linux-64)}\r\n     xz  {5.2.5 -> 5.2.6 (defaults/linux-64)}\r\n     yaml  {0.2.5 -> 0.2.5 (defaults/linux-64)}\r\n     zlib  {1.2.12 -> 1.2.13 (defaults/linux-64)}\r\n    -colorama-0.4.4\r\n    -conda-content-trust-0.1.1\r\n    -pip-21.2.4\r\n    -six-1.16.0\r\n    -wheel-0.37.1\r\n    +toolz-0.12.0 (defaults/linux-64)\r\n\r\n2022-11-11 03:42:52  (rev 2)\r\n     ca-certificates  {2022.10.11 (defaults/linux-64) -> 2022.07.19 (anaconda/linux-64)}\r\n     certifi  {2022.9.24 (defaults/linux-64) -> 2022.6.15 (anaconda/linux-64)}\r\n     openssl  {1.1.1s (defaults/linux-64) -> 1.1.1q (anaconda/linux-64)}\r\n    +pip-22.1.2 (anaconda/linux-64)\r\n    +wheel-0.37.1 (anaconda/noarch)\r\n\r\n"
        }
      ],
      "execution_count": 4,
      "metadata": {
        "jupyter": {
          "source_hidden": false,
          "outputs_hidden": false
        },
        "nteract": {
          "transient": {
            "deleting": false
          }
        }
      }
    },
    {
      "cell_type": "markdown",
      "source": [
        "### Conda cheatsheet\r\n",
        "https://docs.conda.io/projects/conda/en/4.6.0/_downloads/52a95608c49671267e40c689e0bc00ca/conda-cheatsheet.pdf"
      ],
      "metadata": {
        "nteract": {
          "transient": {
            "deleting": false
          }
        }
      }
    }
  ],
  "metadata": {
    "kernelspec": {
      "name": "python310-sdkv2",
      "language": "python",
      "display_name": "Python 3.10 - SDK V2"
    },
    "language_info": {
      "name": "python",
      "version": "3.10.6",
      "mimetype": "text/x-python",
      "codemirror_mode": {
        "name": "ipython",
        "version": 3
      },
      "pygments_lexer": "ipython3",
      "nbconvert_exporter": "python",
      "file_extension": ".py"
    },
    "kernel_info": {
      "name": "python310-sdkv2"
    },
    "nteract": {
      "version": "nteract-front-end@1.0.0"
    }
  },
  "nbformat": 4,
  "nbformat_minor": 2
}